{
 "cells": [
  {
   "cell_type": "code",
   "execution_count": 1,
   "metadata": {},
   "outputs": [],
   "source": [
    "import pandas as pd\n",
    "import numpy as np\n",
    "\n",
    "import dask\n",
    "import dask.dataframe as dd\n",
    "from dask.delayed import delayed"
   ]
  },
  {
   "cell_type": "code",
   "execution_count": 2,
   "metadata": {},
   "outputs": [],
   "source": [
    "parts = dask.delayed(pd.read_excel)(\"quina.xlsx\")\n",
    "quina = dd.from_delayed(parts)"
   ]
  },
  {
   "cell_type": "code",
   "execution_count": 3,
   "metadata": {},
   "outputs": [],
   "source": [
    "quina['Concurso_2'] = quina['Concurso'] \n",
    "quina = quina.set_index('Concurso_2')#sort_values(by='Concurso', ascending=True).reset_index(drop=True)"
   ]
  },
  {
   "cell_type": "code",
   "execution_count": 4,
   "metadata": {},
   "outputs": [],
   "source": [
    "quina = quina.compute()"
   ]
  },
  {
   "cell_type": "code",
   "execution_count": 5,
   "metadata": {},
   "outputs": [],
   "source": [
    "def jogos_ordenados(bola_1: int, bola_2: int, bola_3: int, bola_4: int, bola_5: int) -> list:\n",
    "    \"\"\"Retorna os 15 numeros do resultado da lotofacil, ordenados\"\"\"\n",
    "    return sorted([bola_1, bola_2, bola_3, bola_4, bola_5])\n",
    "\n",
    "def jogos_desordenados(bola_1: int, bola_2: int, bola_3: int, bola_4: int, bola_5: int) -> list:\n",
    "    \"\"\"Retorna os 15 numeros do resultado da lotofacil, desordenados\"\"\"\n",
    "    return  ([bola_1, bola_2, bola_3, bola_4, bola_5])\n",
    "\n",
    "def  soma_jogos(lista: list) -> int:\n",
    "    \"\"\" retorna soma dos jogos \"\"\"\n",
    "    return sum(lista)\n",
    "\n",
    "def  media_jogos(lista: list) -> int:\n",
    "    \"\"\" retorna media dos jogos \"\"\"\n",
    "    return int(np.mean(lista))\n",
    "\n",
    "def  desvio_padrao_jogos(lista: list) -> int:\n",
    "    \"\"\" retorna desvio padrao dos jogos \"\"\"\n",
    "    return int(np.std(lista))\n",
    "\n",
    "    \n",
    "# faz a lista dos jogos\n",
    "quina['jogos_ordenados'] = list(map(jogos_ordenados, quina['bola_1'], quina['bola_2'], quina['bola_3'],\n",
    "                              quina['bola_4'], quina['bola_5']))\n",
    "\n",
    "quina['jogos_desordenados'] = list(map(jogos_desordenados, quina['bola_1'], quina['bola_2'], quina['bola_3'],\n",
    "                              quina['bola_4'], quina['bola_5'])) \n",
    "\n",
    "# faz a soma dos jogos e deixa um inteiro\n",
    "quina['soma_jogos'] = list(map(soma_jogos, quina['jogos_ordenados']))\n",
    "# faz a média dos jogos e deixa um inteiro\n",
    "quina['media_jogos'] = list(map(media_jogos, quina['jogos_ordenados']))\n",
    "# faz o desvio padrão dos jogos\n",
    "quina['desvio_padrao_jogos'] = list(map(desvio_padrao_jogos, quina['jogos_ordenados']))\n",
    "\n",
    "quina = quina.drop(['bola_1', 'bola_2', 'bola_3', 'bola_4', 'bola_5'], axis=1)\n",
    "\n",
    "    "
   ]
  },
  {
   "cell_type": "code",
   "execution_count": 6,
   "metadata": {},
   "outputs": [
    {
     "name": "stdout",
     "output_type": "stream",
     "text": [
      "CPU times: user 32.5 ms, sys: 0 ns, total: 32.5 ms\n",
      "Wall time: 32 ms\n"
     ]
    }
   ],
   "source": [
    "%%time\n",
    "\n",
    "def entre_numeros(df: pd.DataFrame, primeiro: int, segundo: int, coluna_nova: str):\n",
    "    \"\"\" conta os numeros das bolas entre 1 e 15, 16 e 31 e etc.. \"\"\"\n",
    "    contador = 0\n",
    "    lista_numeros = []\n",
    "    for jogo in df['jogos_ordenados']:\n",
    "        for bola in jogo:\n",
    "            if bola >= primeiro and bola <= segundo:\n",
    "                contador += 1\n",
    "        lista_numeros.append(contador)\n",
    "        contador = 0\n",
    "    df[coluna_nova] = lista_numeros\n",
    "    \n",
    "entre_numeros(quina, 1, 15, \"entre_1_e_15\")\n",
    "entre_numeros(quina, 16, 31, \"entre_16_e_31\")\n",
    "entre_numeros(quina, 32, 47, \"entre_32_e_47\")\n",
    "entre_numeros(quina, 48, 63, \"entre_48_e_63\")\n",
    "entre_numeros(quina, 64, 80, \"entre_64_e_80\")"
   ]
  },
  {
   "cell_type": "code",
   "execution_count": 7,
   "metadata": {},
   "outputs": [],
   "source": [
    "def contar_bolas(df: pd.DataFrame):\n",
    "    \"\"\" conta os numeros de todas as bolas por jogo e faz a coluna \"\"\"\n",
    "    for bola in range(1, 81):\n",
    "        contador = 0\n",
    "        lista_numeros = [0 for i in range(len(df) - 150)]\n",
    "        for jogo in df.iloc[-150:, :]['jogos_ordenados']:\n",
    "            if bola in jogo:\n",
    "                contador += 1\n",
    "            lista_numeros.append(contador)\n",
    "        coluna_nova = \"bola_\" + str(bola) + \"_sorteio\" \n",
    "        df[coluna_nova] = lista_numeros\n",
    "        \n",
    "contar_bolas(quina)"
   ]
  },
  {
   "cell_type": "code",
   "execution_count": 9,
   "metadata": {},
   "outputs": [
    {
     "data": {
      "text/plain": [
       "<BarContainer object of 80 artists>"
      ]
     },
     "execution_count": 9,
     "metadata": {},
     "output_type": "execute_result"
    },
    {
     "data": {
      "image/png": "[encoded data removed]",
      "text/plain": [
       "<Figure size 720x360 with 1 Axes>"
      ]
     },
     "metadata": {},
     "output_type": "display_data"
    }
   ],
   "source": [
    "from matplotlib.pyplot import figure\n",
    "\n",
    "from matplotlib import pyplot as plt\n",
    "\n",
    "\n",
    "lista_bola = []\n",
    "bola = []\n",
    "for i in range(1,81):\n",
    "    bola.append(i)\n",
    "    coluna = 'bola_' + str(i) + \"_sorteio\"\n",
    "    lista_bola.append(coluna)\n",
    "    \n",
    "xticks = []\n",
    "for i in range(1,81,2):\n",
    "    xticks.append(i)\n",
    "\n",
    "x_bolas = bola\n",
    "y_values = quina[lista_bola].iloc[-1].values\n",
    "\n",
    "figure(figsize=(10,5))\n",
    "axes= plt.axes()\n",
    "\n",
    "axes.set_xticks(xticks)\n",
    "#axes.set_yticks([150, 175, 200,225, 250])\n",
    "plt.tight_layout()\n",
    "plt.bar(x_bolas, y_values, width=0.5)"
   ]
  },
  {
   "cell_type": "code",
   "execution_count": 10,
   "metadata": {},
   "outputs": [
    {
     "data": {
      "text/plain": [
       "[25, 45, 60, 76, 79]"
      ]
     },
     "execution_count": 10,
     "metadata": {},
     "output_type": "execute_result"
    }
   ],
   "source": [
    "quina['jogos_ordenados'].iloc[0]"
   ]
  },
  {
   "cell_type": "code",
   "execution_count": 11,
   "metadata": {},
   "outputs": [
    {
     "name": "stdout",
     "output_type": "stream",
     "text": [
      "CPU times: user 16.6 s, sys: 10.5 ms, total: 16.6 s\n",
      "Wall time: 16.7 s\n"
     ]
    }
   ],
   "source": [
    "%%time\n",
    "def sorteios_sem_sair_bola(df: pd.DataFrame):\n",
    "    \"\"\" conta o numero de jogos que as bolas ficaram sem ser sorteadas \"\"\"\n",
    "    for bola in range(1, 81):\n",
    "        jogo = 0\n",
    "        soma = 0\n",
    "        lista_numeros = []\n",
    "        for linha in range(len(df['jogos_ordenados'])):\n",
    "            if bola in df['jogos_ordenados'].iloc[linha]:\n",
    "                jogo = linha\n",
    "            soma = df['Concurso'].iloc[linha] - df['Concurso'].iloc[jogo] \n",
    "            lista_numeros.append(soma)\n",
    "        coluna_nova = \"bola_\" + str(bola) + \"_jogos_sem_sorteio\" \n",
    "        df[coluna_nova] = lista_numeros\n",
    "        \n",
    "sorteios_sem_sair_bola(quina)"
   ]
  },
  {
   "cell_type": "code",
   "execution_count": 12,
   "metadata": {},
   "outputs": [
    {
     "name": "stdout",
     "output_type": "stream",
     "text": [
      "CPU times: user 6.35 s, sys: 0 ns, total: 6.35 s\n",
      "Wall time: 6.36 s\n"
     ]
    }
   ],
   "source": [
    "%%time\n",
    "def resultado_sorteios_sem_sair_bola(df: pd.DataFrame) -> list:\n",
    "    \"\"\" adiciona a qtd de sorteios que cada bola ficou sem ser sorteada em uma lista \"\"\"\n",
    "    lista_jogos = [0]\n",
    "    for linha in range(1, len(df['jogos_ordenados'])):    \n",
    "        lista_bolas = []\n",
    "        for bola in range(1, 81):\n",
    "            if bola in df['jogos_ordenados'].iloc[linha]:\n",
    "                lista_bolas.append(df[\"bola_\" + str(bola) + \"_jogos_sem_sorteio\"].iloc[linha-1]) \n",
    "        lista_jogos.append(lista_bolas)\n",
    "    coluna_nova = 'sorteio_sem_sair_resultados'\n",
    "    #print(lista_jo)\n",
    "    df[coluna_nova] = lista_jogos\n",
    "\n",
    "resultado_sorteios_sem_sair_bola(quina)"
   ]
  },
  {
   "cell_type": "code",
   "execution_count": 25,
   "metadata": {},
   "outputs": [
    {
     "data": {
      "text/plain": [
       "Concurso_2\n",
       "1                        0\n",
       "2          [0, 0, 0, 0, 0]\n",
       "3          [1, 1, 1, 1, 1]\n",
       "4          [2, 2, 2, 2, 2]\n",
       "5          [3, 3, 3, 3, 3]\n",
       "               ...        \n",
       "5304     [4, 8, 88, 5, 13]\n",
       "5305      [1, 2, 2, 38, 3]\n",
       "5306    [37, 18, 11, 4, 4]\n",
       "5307     [9, 66, 1, 9, 36]\n",
       "5308      [1, 32, 7, 9, 1]\n",
       "Name: sorteio_sem_sair_resultados, Length: 5308, dtype: object"
      ]
     },
     "execution_count": 25,
     "metadata": {},
     "output_type": "execute_result"
    }
   ],
   "source": [
    "quina['sorteio_sem_sair_resultados']"
   ]
  },
  {
   "cell_type": "code",
   "execution_count": 13,
   "metadata": {},
   "outputs": [
    {
     "name": "stdout",
     "output_type": "stream",
     "text": [
      "CPU times: user 491 ms, sys: 28 ms, total: 519 ms\n",
      "Wall time: 489 ms\n"
     ]
    }
   ],
   "source": [
    "%%time\n",
    "def soma_jogos_sem_sair(lista: list) -> int:\n",
    "    \"\"\" retorna soma dos jogos \"\"\"\n",
    "    if lista == 0:\n",
    "        return(0)\n",
    "    else:\n",
    "        return sum(lista)\n",
    "\n",
    "def media_jogos_sem_sair(lista: list) -> int:\n",
    "    \"\"\" retorna media dos jogos \"\"\"\n",
    "    if lista == 0:\n",
    "        return(0)\n",
    "    else:\n",
    "        return round(np.mean(lista), 2)\n",
    "\n",
    "def desvio_padrao_jogos_sem_sair(lista: list) -> int:\n",
    "    \"\"\" retorna desvio padrao dos jogos \"\"\"\n",
    "    if lista == 0:\n",
    "        return(0)\n",
    "    else:\n",
    "        return round(np.std(lista), 2)\n",
    "\n",
    "quina['sorteio_sem_sair_resultados_sum'] = list(map(soma_jogos_sem_sair, \n",
    "                                                        quina['sorteio_sem_sair_resultados']))\n",
    "quina['sorteio_sem_sair_resultados_mean'] = list(map(media_jogos_sem_sair, \n",
    "                                                        quina['sorteio_sem_sair_resultados']))\n",
    "quina['sorteio_sem_sair_resultados_std'] = list(map(desvio_padrao_jogos_sem_sair, \n",
    "                                                        quina['sorteio_sem_sair_resultados']))"
   ]
  },
  {
   "cell_type": "code",
   "execution_count": 18,
   "metadata": {},
   "outputs": [
    {
     "data": {
      "text/plain": [
       "63     1\n",
       "126    1\n",
       "93     1\n",
       "61     1\n",
       "74     1\n",
       "121    1\n",
       "88     1\n",
       "118    1\n",
       "46     1\n",
       "50     1\n",
       "Name: sorteio_sem_sair_resultados_sum, dtype: int64"
      ]
     },
     "execution_count": 18,
     "metadata": {},
     "output_type": "execute_result"
    }
   ],
   "source": [
    "quina['sorteio_sem_sair_resultados_sum'].iloc[-10:].value_counts()"
   ]
  },
  {
   "cell_type": "code",
   "execution_count": 19,
   "metadata": {},
   "outputs": [
    {
     "name": "stdout",
     "output_type": "stream",
     "text": [
      "CPU times: user 7.02 ms, sys: 3.87 ms, total: 10.9 ms\n",
      "Wall time: 10.5 ms\n"
     ]
    }
   ],
   "source": [
    "%%time\n",
    "def numeros_primos(df: pd.DataFrame):\n",
    "    \"\"\" faz uma coluna com a quantidade de numeros primos por jogo\"\"\"\n",
    "    primos = [1,2,3,5,7,11,13,17,19,23,29,31,37,41,43,47,53,59,61,67,71,73,79]\n",
    "    qtd_primos = []\n",
    "    for jogo in df['jogos_ordenados']:\n",
    "        contador = 0\n",
    "        for bola in jogo:\n",
    "            if bola in primos:\n",
    "                contador += 1\n",
    "        qtd_primos.append(contador)\n",
    "    df['qtd_primos'] = qtd_primos\n",
    "\n",
    "numeros_primos(quina)"
   ]
  },
  {
   "cell_type": "code",
   "execution_count": 20,
   "metadata": {},
   "outputs": [
    {
     "name": "stdout",
     "output_type": "stream",
     "text": [
      "CPU times: user 13.7 ms, sys: 0 ns, total: 13.7 ms\n",
      "Wall time: 13.4 ms\n"
     ]
    }
   ],
   "source": [
    "%%time\n",
    "def numeros_fibonacci(df: pd.DataFrame):\n",
    "    \"\"\" faz uma coluna com a quantidade de numeros de fibonacci por jogo\"\"\"\n",
    "    fibonacci = [1, 2, 3, 5, 8, 13, 21, 34, 55]\n",
    "    qtd_fibonacci = []\n",
    "    for jogo in df['jogos_ordenados']:\n",
    "        contador = 0\n",
    "        for bola in jogo:\n",
    "            if bola in fibonacci:\n",
    "                contador += 1\n",
    "        qtd_fibonacci.append(contador)\n",
    "    df['qtd_fibonacci'] = qtd_fibonacci\n",
    "\n",
    "numeros_fibonacci(quina)"
   ]
  },
  {
   "cell_type": "code",
   "execution_count": 21,
   "metadata": {},
   "outputs": [
    {
     "name": "stdout",
     "output_type": "stream",
     "text": [
      "CPU times: user 6.97 ms, sys: 0 ns, total: 6.97 ms\n",
      "Wall time: 6.89 ms\n"
     ]
    }
   ],
   "source": [
    "%%time\n",
    "def numeros_fibonacci_e_primo(df: pd.DataFrame):\n",
    "    \"\"\" faz uma coluna com a quantidade de numeros de fibonacci e primos por jogo\"\"\"\n",
    "    fibonacci_primo = [1, 2, 3, 5,13]\n",
    "    qtd_fibonacci_primo = []\n",
    "    for jogo in df['jogos_ordenados']:\n",
    "        contador = 0\n",
    "        for bola in jogo:\n",
    "            if bola in fibonacci_primo:\n",
    "                contador += 1\n",
    "        qtd_fibonacci_primo.append(contador)\n",
    "    df['qtd_fibonacci_primo'] = qtd_fibonacci_primo\n",
    "\n",
    "numeros_fibonacci_e_primo(quina)"
   ]
  },
  {
   "cell_type": "code",
   "execution_count": 22,
   "metadata": {},
   "outputs": [
    {
     "name": "stdout",
     "output_type": "stream",
     "text": [
      "CPU times: user 17.9 ms, sys: 49 µs, total: 18 ms\n",
      "Wall time: 17.4 ms\n"
     ]
    }
   ],
   "source": [
    "%%time\n",
    "def pares_impares(df: pd.DataFrame):\n",
    "    \"\"\" cria 2 colunas com as quantidades de numeros pares e impares por jogo\"\"\"\n",
    "    pares = []\n",
    "    impares = []\n",
    "    for jogo in df['jogos_ordenados']:\n",
    "        contador_par = 0\n",
    "        contador_impar = 0\n",
    "        for bola in jogo:\n",
    "            if bola % 2 == 0:\n",
    "                contador_par += 1\n",
    "            else:\n",
    "                contador_impar += 1\n",
    "        pares.append(contador_par)\n",
    "        impares.append(contador_impar)\n",
    "    df['qtd_numeros_pares'] = pares\n",
    "    df['qtd_numeros_impares'] = impares\n",
    "\n",
    "    \n",
    "pares_impares(quina)"
   ]
  },
  {
   "cell_type": "code",
   "execution_count": 23,
   "metadata": {},
   "outputs": [
    {
     "name": "stdout",
     "output_type": "stream",
     "text": [
      "CPU times: user 7.47 ms, sys: 0 ns, total: 7.47 ms\n",
      "Wall time: 7.34 ms\n"
     ]
    }
   ],
   "source": [
    "%%time\n",
    "def divisivel_por_tres(df: pd.DataFrame):\n",
    "    \"\"\" cria coluna com a quantidade de numeros divisiveis por 3\"\"\"\n",
    "    divisivel_tres = []\n",
    "    for jogo in df['jogos_ordenados']:\n",
    "        contador = 0\n",
    "        for bola in jogo:\n",
    "            if bola % 3 == 0:\n",
    "                contador += 1\n",
    "        divisivel_tres.append(contador)\n",
    "    df['qtd_divisivel_tres'] = divisivel_tres\n",
    "\n",
    "divisivel_por_tres(quina)"
   ]
  },
  {
   "cell_type": "code",
   "execution_count": null,
   "metadata": {},
   "outputs": [],
   "source": [
    "soma, media, desvio padrao, entre numeros, primos, fibonacci, primos e fibo, pares, impares, divisivel_3"
   ]
  },
  {
   "cell_type": "code",
   "execution_count": 24,
   "metadata": {},
   "outputs": [
    {
     "name": "stdout",
     "output_type": "stream",
     "text": [
      "CPU times: user 29.8 ms, sys: 48 µs, total: 29.9 ms\n",
      "Wall time: 29.3 ms\n"
     ]
    }
   ],
   "source": [
    "%%time\n",
    "def resultado_jogo(soma: int, media: int, desvio_padrao: int, entre_1_5: int, entre_6_10: int, \n",
    "                   entre_11_15: int, entre_16_20: int, entre_21_25: int, \n",
    "                   primos: int, fibonacci: int, primos_fibo: int, pares: int, impares: int, divisivel_3: int,\n",
    "                   sem_sair_sum: int):\n",
    "    \n",
    "    return ([soma, media, desvio_padrao, entre_1_5, entre_6_10, entre_11_15, entre_16_20, entre_21_25,\n",
    "             primos, fibonacci, primos_fibo, pares, impares, divisivel_3, sem_sair_sum])\n",
    "\n",
    "quina['resultados'] = list(map(resultado_jogo, quina['soma_jogos'], quina['media_jogos'], \n",
    "                                   quina['desvio_padrao_jogos'],\n",
    "                              quina['entre_1_e_15'], quina['entre_16_e_31'], quina['entre_32_e_47'],\n",
    "                              quina['entre_48_e_63'], quina['entre_64_e_80'], quina['qtd_primos'],\n",
    "                              quina['qtd_fibonacci'], quina['qtd_fibonacci_primo'],\n",
    "                                   quina['qtd_numeros_pares'],\n",
    "                              quina['qtd_numeros_impares'], quina['qtd_divisivel_tres'], \n",
    "                                   quina['sorteio_sem_sair_resultados_sum']))\n"
   ]
  },
  {
   "cell_type": "code",
   "execution_count": 25,
   "metadata": {},
   "outputs": [
    {
     "data": {
      "text/plain": [
       "[285, 57, 20, 0, 1, 1, 1, 2, 1, 0, 0, 2, 3, 2, 0]"
      ]
     },
     "execution_count": 25,
     "metadata": {},
     "output_type": "execute_result"
    }
   ],
   "source": [
    "#soma, media, desvio padrao, entre numeros, primos, fibonacci, primos e fibo, pares, impares, divisivel_3\n",
    "quina['resultados'].iloc[0]"
   ]
  },
  {
   "cell_type": "code",
   "execution_count": 61,
   "metadata": {},
   "outputs": [
    {
     "name": "stdout",
     "output_type": "stream",
     "text": [
      "CPU times: user 43.6 s, sys: 5.51 s, total: 49.1 s\n",
      "Wall time: 1min 35s\n"
     ]
    }
   ],
   "source": [
    "%%time\n",
    "# Criar todos os jogos possiveis\n",
    "numeros_possiveis = []\n",
    "for i in range (1,81):\n",
    "    numeros_possiveis.append(i)\n",
    "\n",
    "import itertools\n",
    "jogos_possiveis = list(itertools.combinations(numeros_possiveis, 5))\n",
    "\n",
    "jogos_possiveis = [list(i) for i in jogos_possiveis]\n",
    "\n",
    "#data_jogos_parts = dask.delayed(pd.DataFrame)()\n",
    "#data_jogos = dd.from_delayed(data_jogos_parts)\n",
    "#data_jogos = data_jogos.compute()\n",
    "data_jogos['jogos_ordenados'] = jogos_possiveis"
   ]
  },
  {
   "cell_type": "code",
   "execution_count": 62,
   "metadata": {},
   "outputs": [
    {
     "data": {
      "text/plain": [
       "[1, 2, 3, 4, 5]"
      ]
     },
     "execution_count": 62,
     "metadata": {},
     "output_type": "execute_result"
    }
   ],
   "source": [
    "data_jogos['jogos_ordenados'][0]"
   ]
  },
  {
   "cell_type": "code",
   "execution_count": 41,
   "metadata": {},
   "outputs": [
    {
     "name": "stdout",
     "output_type": "stream",
     "text": [
      "CPU times: user 34min 41s, sys: 1min 49s, total: 36min 31s\n",
      "Wall time: 35min 43s\n"
     ]
    }
   ],
   "source": [
    "%%time\n",
    "# faz a soma dos jogos e deixa um inteiro\n",
    "data_jogos['soma_jogos'] = list(map(soma_jogos, data_jogos['jogos_ordenados']))\n",
    "# faz a média dos jogos e deixa um inteiro\n",
    "data_jogos['media_jogos'] = list(map(media_jogos, data_jogos['jogos_ordenados']))\n",
    "# faz o desvio padrão dos jogos\n",
    "data_jogos['desvio_padrao_jogos'] = list(map(desvio_padrao_jogos, data_jogos['jogos_ordenados']))\n",
    "\n",
    "entre_numeros(data_jogos, 1, 5, \"entre_1_e_15\")\n",
    "entre_numeros(data_jogos, 6, 10, \"entre_16_e_31\")\n",
    "entre_numeros(data_jogos, 11, 15, \"entre_32_e_47\")\n",
    "entre_numeros(data_jogos, 16, 20, \"entre_48_e_63\")\n",
    "entre_numeros(data_jogos, 21, 25, \"entre_64_e_80\")\n",
    "\n",
    "numeros_primos(data_jogos)\n",
    "numeros_fibonacci(data_jogos)\n",
    "\n",
    "numeros_fibonacci_e_primo(data_jogos)\n",
    "pares_impares(data_jogos)\n",
    "\n",
    "divisivel_por_tres(data_jogos)\n"
   ]
  },
  {
   "cell_type": "code",
   "execution_count": 26,
   "metadata": {},
   "outputs": [],
   "source": [
    "#data_jogos.to_csv('quina_data_jogos.csv')\n",
    "#parts = dask.delayed(pd.read_excel)(\"quina.xlsx\")\n",
    "#quina = dd.from_delayed(parts)\n",
    "data_jogos_parts = dask.delayed(pd.read_csv)('quina_data_jogos.csv')\n",
    "data_jogos = dd.from_delayed(data_jogos_parts)"
   ]
  },
  {
   "cell_type": "code",
   "execution_count": 29,
   "metadata": {},
   "outputs": [],
   "source": [
    "%%time\n",
    "data_jogos = data_jogos.compute()"
   ]
  },
  {
   "cell_type": "code",
   "execution_count": null,
   "metadata": {},
   "outputs": [],
   "source": [
    "%%time\n",
    "# Criar todos os jogos possiveis\n",
    "numeros_possiveis = []\n",
    "for i in range (1,81):\n",
    "    numeros_possiveis.append(i)\n",
    "\n",
    "import itertools\n",
    "jogos_possiveis = list(itertools.combinations(numeros_possiveis, 5))\n",
    "\n",
    "jogos_possiveis = [list(i) for i in jogos_possiveis]\n",
    "\n",
    "#data_jogos_parts = dask.delayed(pd.DataFrame)()\n",
    "#data_jogos = dd.from_delayed(data_jogos_parts)\n",
    "#data_jogos = data_jogos.compute()\n",
    "data_jogos['jogos_ordenados'] = jogos_possiveis"
   ]
  },
  {
   "cell_type": "code",
   "execution_count": null,
   "metadata": {},
   "outputs": [],
   "source": [
    "%%time\n",
    "import dask.array as da\n",
    "\n",
    "def resultado_sorteios_sem_sair_bola_2(df: pd.DataFrame, df_2: pd.DataFrame) -> list:\n",
    "    \"\"\" adiciona a qtd de sorteios que cada bola ficou sem ser sorteada em uma lista \"\"\"\n",
    "    \n",
    "    sorteios_sem_bola = list(df[[\"bola_1_jogos_sem_sorteio\", \"bola_2_jogos_sem_sorteio\", \"bola_3_jogos_sem_sorteio\",\n",
    "           \"bola_4_jogos_sem_sorteio\", \"bola_5_jogos_sem_sorteio\",\n",
    "                                \"bola_6_jogos_sem_sorteio\", \"bola_7_jogos_sem_sorteio\", \"bola_8_jogos_sem_sorteio\",\n",
    "           \"bola_9_jogos_sem_sorteio\", \"bola_10_jogos_sem_sorteio\",\n",
    "                                \"bola_11_jogos_sem_sorteio\", \"bola_12_jogos_sem_sorteio\", \"bola_13_jogos_sem_sorteio\",\n",
    "           \"bola_14_jogos_sem_sorteio\", \"bola_15_jogos_sem_sorteio\",\n",
    "                                \"bola_16_jogos_sem_sorteio\", \"bola_17_jogos_sem_sorteio\", \"bola_18_jogos_sem_sorteio\",\n",
    "           \"bola_19_jogos_sem_sorteio\", \"bola_20_jogos_sem_sorteio\",\n",
    "                                \"bola_21_jogos_sem_sorteio\", \"bola_22_jogos_sem_sorteio\", \"bola_23_jogos_sem_sorteio\",\n",
    "           \"bola_24_jogos_sem_sorteio\", \"bola_25_jogos_sem_sorteio\",\n",
    "                                \"bola_26_jogos_sem_sorteio\", \"bola_27_jogos_sem_sorteio\", \"bola_28_jogos_sem_sorteio\",\n",
    "           \"bola_29_jogos_sem_sorteio\", \"bola_30_jogos_sem_sorteio\",\n",
    "                                \"bola_31_jogos_sem_sorteio\", \"bola_32_jogos_sem_sorteio\", \"bola_33_jogos_sem_sorteio\",\n",
    "           \"bola_34_jogos_sem_sorteio\", \"bola_35_jogos_sem_sorteio\",\n",
    "                                \"bola_36_jogos_sem_sorteio\", \"bola_37_jogos_sem_sorteio\", \"bola_38_jogos_sem_sorteio\",\n",
    "           \"bola_39_jogos_sem_sorteio\", \"bola_40_jogos_sem_sorteio\",\n",
    "                                \"bola_41_jogos_sem_sorteio\", \"bola_42_jogos_sem_sorteio\", \"bola_43_jogos_sem_sorteio\",\n",
    "           \"bola_44_jogos_sem_sorteio\", \"bola_45_jogos_sem_sorteio\",\n",
    "                                \"bola_46_jogos_sem_sorteio\", \"bola_47_jogos_sem_sorteio\", \"bola_48_jogos_sem_sorteio\",\n",
    "           \"bola_49_jogos_sem_sorteio\", \"bola_50_jogos_sem_sorteio\",\n",
    "                                \"bola_51_jogos_sem_sorteio\", \"bola_52_jogos_sem_sorteio\", \"bola_53_jogos_sem_sorteio\",\n",
    "           \"bola_54_jogos_sem_sorteio\", \"bola_55_jogos_sem_sorteio\",\n",
    "                                \"bola_56_jogos_sem_sorteio\", \"bola_57_jogos_sem_sorteio\", \"bola_58_jogos_sem_sorteio\",\n",
    "           \"bola_59_jogos_sem_sorteio\", \"bola_60_jogos_sem_sorteio\",\n",
    "                                \"bola_61_jogos_sem_sorteio\", \"bola_62_jogos_sem_sorteio\", \"bola_63_jogos_sem_sorteio\",\n",
    "           \"bola_64_jogos_sem_sorteio\", \"bola_65_jogos_sem_sorteio\",\n",
    "                                \"bola_66_jogos_sem_sorteio\", \"bola_67_jogos_sem_sorteio\", \"bola_68_jogos_sem_sorteio\",\n",
    "           \"bola_69_jogos_sem_sorteio\", \"bola_70_jogos_sem_sorteio\",\n",
    "                                \"bola_71_jogos_sem_sorteio\", \"bola_72_jogos_sem_sorteio\", \"bola_73_jogos_sem_sorteio\",\n",
    "           \"bola_74_jogos_sem_sorteio\", \"bola_75_jogos_sem_sorteio\",\n",
    "                                \"bola_76_jogos_sem_sorteio\", \"bola_77_jogos_sem_sorteio\", \"bola_78_jogos_sem_sorteio\",\n",
    "           \"bola_79_jogos_sem_sorteio\", \"bola_80_jogos_sem_sorteio\"]].iloc[-1])\n",
    "    \n",
    "    sorteios_sem_bola = dask.delayed(sorteios_sem_bola)\n",
    "    sorteios_sem_bola = sorteios_sem_bola.compute()\n",
    "    \n",
    "    lista_jogos = []\n",
    "    lista_jogos = dask.delayed(lista_jogos)\n",
    "    lista_jogos = lista_jogos.compute()\n",
    "    \n",
    "    for linha in range(len(df_2['jogos_ordenados'])):    \n",
    "        lista_bolas = []\n",
    "        lista_bolas = dask.delayed(lista_bolas)\n",
    "        lista_bolas = lista_bolas.compute()\n",
    "        \n",
    "        for bola in df_2['jogos_ordenados'].iloc[linha]:\n",
    "            lista_bolas.append(sorteios_sem_bola[bola-1])\n",
    "        lista_jogos.append(lista_bolas)\n",
    "    coluna_nova = 'sorteio_sem_sair_resultados'\n",
    "    df_2[coluna_nova] = lista_jogos\n",
    "\n",
    "resultado_sorteios_sem_sair_bola_2(quina, data_jogos)"
   ]
  },
  {
   "cell_type": "code",
   "execution_count": 66,
   "metadata": {},
   "outputs": [
    {
     "data": {
      "text/html": [
       "<div>\n",
       "<style scoped>\n",
       "    .dataframe tbody tr th:only-of-type {\n",
       "        vertical-align: middle;\n",
       "    }\n",
       "\n",
       "    .dataframe tbody tr th {\n",
       "        vertical-align: top;\n",
       "    }\n",
       "\n",
       "    .dataframe thead th {\n",
       "        text-align: right;\n",
       "    }\n",
       "</style>\n",
       "<table border=\"1\" class=\"dataframe\">\n",
       "  <thead>\n",
       "    <tr style=\"text-align: right;\">\n",
       "      <th></th>\n",
       "      <th>Unnamed: 0</th>\n",
       "      <th>jogos_ordenados</th>\n",
       "      <th>soma_jogos</th>\n",
       "      <th>media_jogos</th>\n",
       "      <th>desvio_padrao_jogos</th>\n",
       "      <th>entre_1_e_15</th>\n",
       "      <th>entre_16_e_31</th>\n",
       "      <th>entre_32_e_47</th>\n",
       "      <th>entre_48_e_63</th>\n",
       "      <th>entre_64_e_80</th>\n",
       "      <th>qtd_primos</th>\n",
       "      <th>qtd_fibonacci</th>\n",
       "      <th>qtd_fibonacci_primo</th>\n",
       "      <th>qtd_numeros_pares</th>\n",
       "      <th>qtd_numeros_impares</th>\n",
       "      <th>qtd_divisivel_tres</th>\n",
       "    </tr>\n",
       "  </thead>\n",
       "  <tbody>\n",
       "    <tr>\n",
       "      <th>0</th>\n",
       "      <td>0</td>\n",
       "      <td>[1, 2, 3, 4, 5]</td>\n",
       "      <td>15</td>\n",
       "      <td>3</td>\n",
       "      <td>1</td>\n",
       "      <td>5</td>\n",
       "      <td>0</td>\n",
       "      <td>0</td>\n",
       "      <td>0</td>\n",
       "      <td>0</td>\n",
       "      <td>4</td>\n",
       "      <td>4</td>\n",
       "      <td>4</td>\n",
       "      <td>2</td>\n",
       "      <td>3</td>\n",
       "      <td>1</td>\n",
       "    </tr>\n",
       "    <tr>\n",
       "      <th>1</th>\n",
       "      <td>1</td>\n",
       "      <td>[1, 2, 3, 4, 6]</td>\n",
       "      <td>16</td>\n",
       "      <td>3</td>\n",
       "      <td>1</td>\n",
       "      <td>4</td>\n",
       "      <td>1</td>\n",
       "      <td>0</td>\n",
       "      <td>0</td>\n",
       "      <td>0</td>\n",
       "      <td>3</td>\n",
       "      <td>3</td>\n",
       "      <td>3</td>\n",
       "      <td>3</td>\n",
       "      <td>2</td>\n",
       "      <td>2</td>\n",
       "    </tr>\n",
       "    <tr>\n",
       "      <th>2</th>\n",
       "      <td>2</td>\n",
       "      <td>[1, 2, 3, 4, 7]</td>\n",
       "      <td>17</td>\n",
       "      <td>3</td>\n",
       "      <td>2</td>\n",
       "      <td>4</td>\n",
       "      <td>1</td>\n",
       "      <td>0</td>\n",
       "      <td>0</td>\n",
       "      <td>0</td>\n",
       "      <td>4</td>\n",
       "      <td>3</td>\n",
       "      <td>3</td>\n",
       "      <td>2</td>\n",
       "      <td>3</td>\n",
       "      <td>1</td>\n",
       "    </tr>\n",
       "    <tr>\n",
       "      <th>3</th>\n",
       "      <td>3</td>\n",
       "      <td>[1, 2, 3, 4, 8]</td>\n",
       "      <td>18</td>\n",
       "      <td>3</td>\n",
       "      <td>2</td>\n",
       "      <td>4</td>\n",
       "      <td>1</td>\n",
       "      <td>0</td>\n",
       "      <td>0</td>\n",
       "      <td>0</td>\n",
       "      <td>3</td>\n",
       "      <td>4</td>\n",
       "      <td>3</td>\n",
       "      <td>3</td>\n",
       "      <td>2</td>\n",
       "      <td>1</td>\n",
       "    </tr>\n",
       "    <tr>\n",
       "      <th>4</th>\n",
       "      <td>4</td>\n",
       "      <td>[1, 2, 3, 4, 9]</td>\n",
       "      <td>19</td>\n",
       "      <td>3</td>\n",
       "      <td>2</td>\n",
       "      <td>4</td>\n",
       "      <td>1</td>\n",
       "      <td>0</td>\n",
       "      <td>0</td>\n",
       "      <td>0</td>\n",
       "      <td>3</td>\n",
       "      <td>3</td>\n",
       "      <td>3</td>\n",
       "      <td>2</td>\n",
       "      <td>3</td>\n",
       "      <td>2</td>\n",
       "    </tr>\n",
       "    <tr>\n",
       "      <th>...</th>\n",
       "      <td>...</td>\n",
       "      <td>...</td>\n",
       "      <td>...</td>\n",
       "      <td>...</td>\n",
       "      <td>...</td>\n",
       "      <td>...</td>\n",
       "      <td>...</td>\n",
       "      <td>...</td>\n",
       "      <td>...</td>\n",
       "      <td>...</td>\n",
       "      <td>...</td>\n",
       "      <td>...</td>\n",
       "      <td>...</td>\n",
       "      <td>...</td>\n",
       "      <td>...</td>\n",
       "      <td>...</td>\n",
       "    </tr>\n",
       "    <tr>\n",
       "      <th>24040011</th>\n",
       "      <td>24040011</td>\n",
       "      <td>[75, 76, 77, 78, 80]</td>\n",
       "      <td>386</td>\n",
       "      <td>77</td>\n",
       "      <td>1</td>\n",
       "      <td>0</td>\n",
       "      <td>0</td>\n",
       "      <td>0</td>\n",
       "      <td>0</td>\n",
       "      <td>0</td>\n",
       "      <td>0</td>\n",
       "      <td>0</td>\n",
       "      <td>0</td>\n",
       "      <td>3</td>\n",
       "      <td>2</td>\n",
       "      <td>2</td>\n",
       "    </tr>\n",
       "    <tr>\n",
       "      <th>24040012</th>\n",
       "      <td>24040012</td>\n",
       "      <td>[75, 76, 77, 79, 80]</td>\n",
       "      <td>387</td>\n",
       "      <td>77</td>\n",
       "      <td>1</td>\n",
       "      <td>0</td>\n",
       "      <td>0</td>\n",
       "      <td>0</td>\n",
       "      <td>0</td>\n",
       "      <td>0</td>\n",
       "      <td>1</td>\n",
       "      <td>0</td>\n",
       "      <td>0</td>\n",
       "      <td>2</td>\n",
       "      <td>3</td>\n",
       "      <td>1</td>\n",
       "    </tr>\n",
       "    <tr>\n",
       "      <th>24040013</th>\n",
       "      <td>24040013</td>\n",
       "      <td>[75, 76, 78, 79, 80]</td>\n",
       "      <td>388</td>\n",
       "      <td>77</td>\n",
       "      <td>1</td>\n",
       "      <td>0</td>\n",
       "      <td>0</td>\n",
       "      <td>0</td>\n",
       "      <td>0</td>\n",
       "      <td>0</td>\n",
       "      <td>1</td>\n",
       "      <td>0</td>\n",
       "      <td>0</td>\n",
       "      <td>3</td>\n",
       "      <td>2</td>\n",
       "      <td>2</td>\n",
       "    </tr>\n",
       "    <tr>\n",
       "      <th>24040014</th>\n",
       "      <td>24040014</td>\n",
       "      <td>[75, 77, 78, 79, 80]</td>\n",
       "      <td>389</td>\n",
       "      <td>77</td>\n",
       "      <td>1</td>\n",
       "      <td>0</td>\n",
       "      <td>0</td>\n",
       "      <td>0</td>\n",
       "      <td>0</td>\n",
       "      <td>0</td>\n",
       "      <td>1</td>\n",
       "      <td>0</td>\n",
       "      <td>0</td>\n",
       "      <td>2</td>\n",
       "      <td>3</td>\n",
       "      <td>2</td>\n",
       "    </tr>\n",
       "    <tr>\n",
       "      <th>24040015</th>\n",
       "      <td>24040015</td>\n",
       "      <td>[76, 77, 78, 79, 80]</td>\n",
       "      <td>390</td>\n",
       "      <td>78</td>\n",
       "      <td>1</td>\n",
       "      <td>0</td>\n",
       "      <td>0</td>\n",
       "      <td>0</td>\n",
       "      <td>0</td>\n",
       "      <td>0</td>\n",
       "      <td>1</td>\n",
       "      <td>0</td>\n",
       "      <td>0</td>\n",
       "      <td>3</td>\n",
       "      <td>2</td>\n",
       "      <td>1</td>\n",
       "    </tr>\n",
       "  </tbody>\n",
       "</table>\n",
       "<p>24040016 rows × 16 columns</p>\n",
       "</div>"
      ],
      "text/plain": [
       "          Unnamed: 0       jogos_ordenados  soma_jogos  media_jogos  \\\n",
       "0                  0       [1, 2, 3, 4, 5]          15            3   \n",
       "1                  1       [1, 2, 3, 4, 6]          16            3   \n",
       "2                  2       [1, 2, 3, 4, 7]          17            3   \n",
       "3                  3       [1, 2, 3, 4, 8]          18            3   \n",
       "4                  4       [1, 2, 3, 4, 9]          19            3   \n",
       "...              ...                   ...         ...          ...   \n",
       "24040011    24040011  [75, 76, 77, 78, 80]         386           77   \n",
       "24040012    24040012  [75, 76, 77, 79, 80]         387           77   \n",
       "24040013    24040013  [75, 76, 78, 79, 80]         388           77   \n",
       "24040014    24040014  [75, 77, 78, 79, 80]         389           77   \n",
       "24040015    24040015  [76, 77, 78, 79, 80]         390           78   \n",
       "\n",
       "          desvio_padrao_jogos  entre_1_e_15  entre_16_e_31  entre_32_e_47  \\\n",
       "0                           1             5              0              0   \n",
       "1                           1             4              1              0   \n",
       "2                           2             4              1              0   \n",
       "3                           2             4              1              0   \n",
       "4                           2             4              1              0   \n",
       "...                       ...           ...            ...            ...   \n",
       "24040011                    1             0              0              0   \n",
       "24040012                    1             0              0              0   \n",
       "24040013                    1             0              0              0   \n",
       "24040014                    1             0              0              0   \n",
       "24040015                    1             0              0              0   \n",
       "\n",
       "          entre_48_e_63  entre_64_e_80  qtd_primos  qtd_fibonacci  \\\n",
       "0                     0              0           4              4   \n",
       "1                     0              0           3              3   \n",
       "2                     0              0           4              3   \n",
       "3                     0              0           3              4   \n",
       "4                     0              0           3              3   \n",
       "...                 ...            ...         ...            ...   \n",
       "24040011              0              0           0              0   \n",
       "24040012              0              0           1              0   \n",
       "24040013              0              0           1              0   \n",
       "24040014              0              0           1              0   \n",
       "24040015              0              0           1              0   \n",
       "\n",
       "          qtd_fibonacci_primo  qtd_numeros_pares  qtd_numeros_impares  \\\n",
       "0                           4                  2                    3   \n",
       "1                           3                  3                    2   \n",
       "2                           3                  2                    3   \n",
       "3                           3                  3                    2   \n",
       "4                           3                  2                    3   \n",
       "...                       ...                ...                  ...   \n",
       "24040011                    0                  3                    2   \n",
       "24040012                    0                  2                    3   \n",
       "24040013                    0                  3                    2   \n",
       "24040014                    0                  2                    3   \n",
       "24040015                    0                  3                    2   \n",
       "\n",
       "          qtd_divisivel_tres  \n",
       "0                          1  \n",
       "1                          2  \n",
       "2                          1  \n",
       "3                          1  \n",
       "4                          2  \n",
       "...                      ...  \n",
       "24040011                   2  \n",
       "24040012                   1  \n",
       "24040013                   2  \n",
       "24040014                   2  \n",
       "24040015                   1  \n",
       "\n",
       "[24040016 rows x 16 columns]"
      ]
     },
     "execution_count": 66,
     "metadata": {},
     "output_type": "execute_result"
    }
   ],
   "source": [
    "data_jogos"
   ]
  },
  {
   "cell_type": "code",
   "execution_count": 56,
   "metadata": {},
   "outputs": [
    {
     "ename": "TypeError",
     "evalue": "dtype '<class 'list'>' not understood",
     "output_type": "error",
     "traceback": [
      "\u001b[0;31m---------------------------------------------------------------------------\u001b[0m",
      "\u001b[0;31mTypeError\u001b[0m                                 Traceback (most recent call last)",
      "\u001b[0;32m<ipython-input-56-b88d8e19d93e>\u001b[0m in \u001b[0;36m<module>\u001b[0;34m()\u001b[0m\n\u001b[0;32m----> 1\u001b[0;31m \u001b[0ma\u001b[0m\u001b[0;34m.\u001b[0m\u001b[0mastype\u001b[0m\u001b[0;34m(\u001b[0m\u001b[0mlist\u001b[0m\u001b[0;34m)\u001b[0m\u001b[0;34m\u001b[0m\u001b[0;34m\u001b[0m\u001b[0m\n\u001b[0m",
      "\u001b[0;32m/home/gabriel/.local/lib/python3.6/site-packages/pandas/core/generic.py\u001b[0m in \u001b[0;36mastype\u001b[0;34m(self, dtype, copy, errors)\u001b[0m\n\u001b[1;32m   5696\u001b[0m         \u001b[0;32melse\u001b[0m\u001b[0;34m:\u001b[0m\u001b[0;34m\u001b[0m\u001b[0;34m\u001b[0m\u001b[0m\n\u001b[1;32m   5697\u001b[0m             \u001b[0;31m# else, only a single dtype is given\u001b[0m\u001b[0;34m\u001b[0m\u001b[0;34m\u001b[0m\u001b[0;34m\u001b[0m\u001b[0m\n\u001b[0;32m-> 5698\u001b[0;31m             \u001b[0mnew_data\u001b[0m \u001b[0;34m=\u001b[0m \u001b[0mself\u001b[0m\u001b[0;34m.\u001b[0m\u001b[0m_data\u001b[0m\u001b[0;34m.\u001b[0m\u001b[0mastype\u001b[0m\u001b[0;34m(\u001b[0m\u001b[0mdtype\u001b[0m\u001b[0;34m=\u001b[0m\u001b[0mdtype\u001b[0m\u001b[0;34m,\u001b[0m \u001b[0mcopy\u001b[0m\u001b[0;34m=\u001b[0m\u001b[0mcopy\u001b[0m\u001b[0;34m,\u001b[0m \u001b[0merrors\u001b[0m\u001b[0;34m=\u001b[0m\u001b[0merrors\u001b[0m\u001b[0;34m)\u001b[0m\u001b[0;34m\u001b[0m\u001b[0;34m\u001b[0m\u001b[0m\n\u001b[0m\u001b[1;32m   5699\u001b[0m             \u001b[0;32mreturn\u001b[0m \u001b[0mself\u001b[0m\u001b[0;34m.\u001b[0m\u001b[0m_constructor\u001b[0m\u001b[0;34m(\u001b[0m\u001b[0mnew_data\u001b[0m\u001b[0;34m)\u001b[0m\u001b[0;34m.\u001b[0m\u001b[0m__finalize__\u001b[0m\u001b[0;34m(\u001b[0m\u001b[0mself\u001b[0m\u001b[0;34m)\u001b[0m\u001b[0;34m\u001b[0m\u001b[0;34m\u001b[0m\u001b[0m\n\u001b[1;32m   5700\u001b[0m \u001b[0;34m\u001b[0m\u001b[0m\n",
      "\u001b[0;32m/home/gabriel/.local/lib/python3.6/site-packages/pandas/core/internals/managers.py\u001b[0m in \u001b[0;36mastype\u001b[0;34m(self, dtype, copy, errors)\u001b[0m\n\u001b[1;32m    580\u001b[0m \u001b[0;34m\u001b[0m\u001b[0m\n\u001b[1;32m    581\u001b[0m     \u001b[0;32mdef\u001b[0m \u001b[0mastype\u001b[0m\u001b[0;34m(\u001b[0m\u001b[0mself\u001b[0m\u001b[0;34m,\u001b[0m \u001b[0mdtype\u001b[0m\u001b[0;34m,\u001b[0m \u001b[0mcopy\u001b[0m\u001b[0;34m:\u001b[0m \u001b[0mbool\u001b[0m \u001b[0;34m=\u001b[0m \u001b[0;32mFalse\u001b[0m\u001b[0;34m,\u001b[0m \u001b[0merrors\u001b[0m\u001b[0;34m:\u001b[0m \u001b[0mstr\u001b[0m \u001b[0;34m=\u001b[0m \u001b[0;34m\"raise\"\u001b[0m\u001b[0;34m)\u001b[0m\u001b[0;34m:\u001b[0m\u001b[0;34m\u001b[0m\u001b[0;34m\u001b[0m\u001b[0m\n\u001b[0;32m--> 582\u001b[0;31m         \u001b[0;32mreturn\u001b[0m \u001b[0mself\u001b[0m\u001b[0;34m.\u001b[0m\u001b[0mapply\u001b[0m\u001b[0;34m(\u001b[0m\u001b[0;34m\"astype\"\u001b[0m\u001b[0;34m,\u001b[0m \u001b[0mdtype\u001b[0m\u001b[0;34m=\u001b[0m\u001b[0mdtype\u001b[0m\u001b[0;34m,\u001b[0m \u001b[0mcopy\u001b[0m\u001b[0;34m=\u001b[0m\u001b[0mcopy\u001b[0m\u001b[0;34m,\u001b[0m \u001b[0merrors\u001b[0m\u001b[0;34m=\u001b[0m\u001b[0merrors\u001b[0m\u001b[0;34m)\u001b[0m\u001b[0;34m\u001b[0m\u001b[0;34m\u001b[0m\u001b[0m\n\u001b[0m\u001b[1;32m    583\u001b[0m \u001b[0;34m\u001b[0m\u001b[0m\n\u001b[1;32m    584\u001b[0m     \u001b[0;32mdef\u001b[0m \u001b[0mconvert\u001b[0m\u001b[0;34m(\u001b[0m\u001b[0mself\u001b[0m\u001b[0;34m,\u001b[0m \u001b[0;34m**\u001b[0m\u001b[0mkwargs\u001b[0m\u001b[0;34m)\u001b[0m\u001b[0;34m:\u001b[0m\u001b[0;34m\u001b[0m\u001b[0;34m\u001b[0m\u001b[0m\n",
      "\u001b[0;32m/home/gabriel/.local/lib/python3.6/site-packages/pandas/core/internals/managers.py\u001b[0m in \u001b[0;36mapply\u001b[0;34m(self, f, filter, **kwargs)\u001b[0m\n\u001b[1;32m    440\u001b[0m                 \u001b[0mapplied\u001b[0m \u001b[0;34m=\u001b[0m \u001b[0mb\u001b[0m\u001b[0;34m.\u001b[0m\u001b[0mapply\u001b[0m\u001b[0;34m(\u001b[0m\u001b[0mf\u001b[0m\u001b[0;34m,\u001b[0m \u001b[0;34m**\u001b[0m\u001b[0mkwargs\u001b[0m\u001b[0;34m)\u001b[0m\u001b[0;34m\u001b[0m\u001b[0;34m\u001b[0m\u001b[0m\n\u001b[1;32m    441\u001b[0m             \u001b[0;32melse\u001b[0m\u001b[0;34m:\u001b[0m\u001b[0;34m\u001b[0m\u001b[0;34m\u001b[0m\u001b[0m\n\u001b[0;32m--> 442\u001b[0;31m                 \u001b[0mapplied\u001b[0m \u001b[0;34m=\u001b[0m \u001b[0mgetattr\u001b[0m\u001b[0;34m(\u001b[0m\u001b[0mb\u001b[0m\u001b[0;34m,\u001b[0m \u001b[0mf\u001b[0m\u001b[0;34m)\u001b[0m\u001b[0;34m(\u001b[0m\u001b[0;34m**\u001b[0m\u001b[0mkwargs\u001b[0m\u001b[0;34m)\u001b[0m\u001b[0;34m\u001b[0m\u001b[0;34m\u001b[0m\u001b[0m\n\u001b[0m\u001b[1;32m    443\u001b[0m             \u001b[0mresult_blocks\u001b[0m \u001b[0;34m=\u001b[0m \u001b[0m_extend_blocks\u001b[0m\u001b[0;34m(\u001b[0m\u001b[0mapplied\u001b[0m\u001b[0;34m,\u001b[0m \u001b[0mresult_blocks\u001b[0m\u001b[0;34m)\u001b[0m\u001b[0;34m\u001b[0m\u001b[0;34m\u001b[0m\u001b[0m\n\u001b[1;32m    444\u001b[0m \u001b[0;34m\u001b[0m\u001b[0m\n",
      "\u001b[0;32m/home/gabriel/.local/lib/python3.6/site-packages/pandas/core/internals/blocks.py\u001b[0m in \u001b[0;36mastype\u001b[0;34m(self, dtype, copy, errors)\u001b[0m\n\u001b[1;32m    594\u001b[0m             \u001b[0;32mreturn\u001b[0m \u001b[0mself\u001b[0m\u001b[0;34m.\u001b[0m\u001b[0mmake_block\u001b[0m\u001b[0;34m(\u001b[0m\u001b[0mCategorical\u001b[0m\u001b[0;34m(\u001b[0m\u001b[0mself\u001b[0m\u001b[0;34m.\u001b[0m\u001b[0mvalues\u001b[0m\u001b[0;34m,\u001b[0m \u001b[0mdtype\u001b[0m\u001b[0;34m=\u001b[0m\u001b[0mdtype\u001b[0m\u001b[0;34m)\u001b[0m\u001b[0;34m)\u001b[0m\u001b[0;34m\u001b[0m\u001b[0;34m\u001b[0m\u001b[0m\n\u001b[1;32m    595\u001b[0m \u001b[0;34m\u001b[0m\u001b[0m\n\u001b[0;32m--> 596\u001b[0;31m         \u001b[0mdtype\u001b[0m \u001b[0;34m=\u001b[0m \u001b[0mpandas_dtype\u001b[0m\u001b[0;34m(\u001b[0m\u001b[0mdtype\u001b[0m\u001b[0;34m)\u001b[0m\u001b[0;34m\u001b[0m\u001b[0;34m\u001b[0m\u001b[0m\n\u001b[0m\u001b[1;32m    597\u001b[0m \u001b[0;34m\u001b[0m\u001b[0m\n\u001b[1;32m    598\u001b[0m         \u001b[0;31m# astype processing\u001b[0m\u001b[0;34m\u001b[0m\u001b[0;34m\u001b[0m\u001b[0;34m\u001b[0m\u001b[0m\n",
      "\u001b[0;32m/home/gabriel/.local/lib/python3.6/site-packages/pandas/core/dtypes/common.py\u001b[0m in \u001b[0;36mpandas_dtype\u001b[0;34m(dtype)\u001b[0m\n\u001b[1;32m   1887\u001b[0m         \u001b[0;32mreturn\u001b[0m \u001b[0mnpdtype\u001b[0m\u001b[0;34m\u001b[0m\u001b[0;34m\u001b[0m\u001b[0m\n\u001b[1;32m   1888\u001b[0m     \u001b[0;32melif\u001b[0m \u001b[0mnpdtype\u001b[0m\u001b[0;34m.\u001b[0m\u001b[0mkind\u001b[0m \u001b[0;34m==\u001b[0m \u001b[0;34m\"O\"\u001b[0m\u001b[0;34m:\u001b[0m\u001b[0;34m\u001b[0m\u001b[0;34m\u001b[0m\u001b[0m\n\u001b[0;32m-> 1889\u001b[0;31m         \u001b[0;32mraise\u001b[0m \u001b[0mTypeError\u001b[0m\u001b[0;34m(\u001b[0m\u001b[0;34mf\"dtype '{dtype}' not understood\"\u001b[0m\u001b[0;34m)\u001b[0m\u001b[0;34m\u001b[0m\u001b[0;34m\u001b[0m\u001b[0m\n\u001b[0m\u001b[1;32m   1890\u001b[0m \u001b[0;34m\u001b[0m\u001b[0m\n\u001b[1;32m   1891\u001b[0m     \u001b[0;32mreturn\u001b[0m \u001b[0mnpdtype\u001b[0m\u001b[0;34m\u001b[0m\u001b[0;34m\u001b[0m\u001b[0m\n",
      "\u001b[0;31mTypeError\u001b[0m: dtype '<class 'list'>' not understood"
     ]
    }
   ],
   "source": []
  },
  {
   "cell_type": "code",
   "execution_count": null,
   "metadata": {},
   "outputs": [],
   "source": []
  },
  {
   "cell_type": "code",
   "execution_count": 121,
   "metadata": {},
   "outputs": [
    {
     "data": {
      "text/html": [
       "<div>\n",
       "<style scoped>\n",
       "    .dataframe tbody tr th:only-of-type {\n",
       "        vertical-align: middle;\n",
       "    }\n",
       "\n",
       "    .dataframe tbody tr th {\n",
       "        vertical-align: top;\n",
       "    }\n",
       "\n",
       "    .dataframe thead th {\n",
       "        text-align: right;\n",
       "    }\n",
       "</style>\n",
       "<table border=\"1\" class=\"dataframe\">\n",
       "  <thead>\n",
       "    <tr style=\"text-align: right;\">\n",
       "      <th></th>\n",
       "      <th>sorteio_sem_sair_resultados</th>\n",
       "      <th>jogos_ordenados</th>\n",
       "    </tr>\n",
       "  </thead>\n",
       "  <tbody>\n",
       "    <tr>\n",
       "      <th>0</th>\n",
       "      <td>[1, 0, 0, 0, 0, 0, 1, 1, 2, 0, 0, 0, 0, 2, 0]</td>\n",
       "      <td>[1, 2, 3, 4, 5, 6, 7, 8, 9, 10, 11, 12, 13, 14...</td>\n",
       "    </tr>\n",
       "    <tr>\n",
       "      <th>1</th>\n",
       "      <td>[1, 0, 0, 0, 0, 0, 1, 1, 2, 0, 0, 0, 0, 2, 0]</td>\n",
       "      <td>[1, 2, 3, 4, 5, 6, 7, 8, 9, 10, 11, 12, 13, 14...</td>\n",
       "    </tr>\n",
       "    <tr>\n",
       "      <th>2</th>\n",
       "      <td>[1, 0, 0, 0, 0, 0, 1, 1, 2, 0, 0, 0, 0, 2, 0]</td>\n",
       "      <td>[1, 2, 3, 4, 5, 6, 7, 8, 9, 10, 11, 12, 13, 14...</td>\n",
       "    </tr>\n",
       "    <tr>\n",
       "      <th>3</th>\n",
       "      <td>[1, 0, 0, 0, 0, 0, 1, 1, 2, 0, 0, 0, 0, 2, 1]</td>\n",
       "      <td>[1, 2, 3, 4, 5, 6, 7, 8, 9, 10, 11, 12, 13, 14...</td>\n",
       "    </tr>\n",
       "    <tr>\n",
       "      <th>4</th>\n",
       "      <td>[1, 0, 0, 0, 0, 0, 1, 1, 2, 0, 0, 0, 0, 2, 0]</td>\n",
       "      <td>[1, 2, 3, 4, 5, 6, 7, 8, 9, 10, 11, 12, 13, 14...</td>\n",
       "    </tr>\n",
       "    <tr>\n",
       "      <th>...</th>\n",
       "      <td>...</td>\n",
       "      <td>...</td>\n",
       "    </tr>\n",
       "    <tr>\n",
       "      <th>3268755</th>\n",
       "      <td>[0, 0, 0, 0, 0, 0, 0, 1, 0, 3, 0, 0, 1, 1, 3]</td>\n",
       "      <td>[10, 11, 12, 13, 15, 16, 17, 18, 19, 20, 21, 2...</td>\n",
       "    </tr>\n",
       "    <tr>\n",
       "      <th>3268756</th>\n",
       "      <td>[0, 0, 0, 2, 0, 0, 0, 1, 0, 3, 0, 0, 1, 1, 3]</td>\n",
       "      <td>[10, 11, 12, 14, 15, 16, 17, 18, 19, 20, 21, 2...</td>\n",
       "    </tr>\n",
       "    <tr>\n",
       "      <th>3268757</th>\n",
       "      <td>[0, 0, 0, 2, 0, 0, 0, 1, 0, 3, 0, 0, 1, 1, 3]</td>\n",
       "      <td>[10, 11, 13, 14, 15, 16, 17, 18, 19, 20, 21, 2...</td>\n",
       "    </tr>\n",
       "    <tr>\n",
       "      <th>3268758</th>\n",
       "      <td>[0, 0, 0, 2, 0, 0, 0, 1, 0, 3, 0, 0, 1, 1, 3]</td>\n",
       "      <td>[10, 12, 13, 14, 15, 16, 17, 18, 19, 20, 21, 2...</td>\n",
       "    </tr>\n",
       "    <tr>\n",
       "      <th>3268759</th>\n",
       "      <td>[0, 0, 0, 2, 0, 0, 0, 1, 0, 3, 0, 0, 1, 1, 3]</td>\n",
       "      <td>[11, 12, 13, 14, 15, 16, 17, 18, 19, 20, 21, 2...</td>\n",
       "    </tr>\n",
       "  </tbody>\n",
       "</table>\n",
       "<p>3268760 rows × 2 columns</p>\n",
       "</div>"
      ],
      "text/plain": [
       "                           sorteio_sem_sair_resultados  \\\n",
       "0        [1, 0, 0, 0, 0, 0, 1, 1, 2, 0, 0, 0, 0, 2, 0]   \n",
       "1        [1, 0, 0, 0, 0, 0, 1, 1, 2, 0, 0, 0, 0, 2, 0]   \n",
       "2        [1, 0, 0, 0, 0, 0, 1, 1, 2, 0, 0, 0, 0, 2, 0]   \n",
       "3        [1, 0, 0, 0, 0, 0, 1, 1, 2, 0, 0, 0, 0, 2, 1]   \n",
       "4        [1, 0, 0, 0, 0, 0, 1, 1, 2, 0, 0, 0, 0, 2, 0]   \n",
       "...                                                ...   \n",
       "3268755  [0, 0, 0, 0, 0, 0, 0, 1, 0, 3, 0, 0, 1, 1, 3]   \n",
       "3268756  [0, 0, 0, 2, 0, 0, 0, 1, 0, 3, 0, 0, 1, 1, 3]   \n",
       "3268757  [0, 0, 0, 2, 0, 0, 0, 1, 0, 3, 0, 0, 1, 1, 3]   \n",
       "3268758  [0, 0, 0, 2, 0, 0, 0, 1, 0, 3, 0, 0, 1, 1, 3]   \n",
       "3268759  [0, 0, 0, 2, 0, 0, 0, 1, 0, 3, 0, 0, 1, 1, 3]   \n",
       "\n",
       "                                           jogos_ordenados  \n",
       "0        [1, 2, 3, 4, 5, 6, 7, 8, 9, 10, 11, 12, 13, 14...  \n",
       "1        [1, 2, 3, 4, 5, 6, 7, 8, 9, 10, 11, 12, 13, 14...  \n",
       "2        [1, 2, 3, 4, 5, 6, 7, 8, 9, 10, 11, 12, 13, 14...  \n",
       "3        [1, 2, 3, 4, 5, 6, 7, 8, 9, 10, 11, 12, 13, 14...  \n",
       "4        [1, 2, 3, 4, 5, 6, 7, 8, 9, 10, 11, 12, 13, 14...  \n",
       "...                                                    ...  \n",
       "3268755  [10, 11, 12, 13, 15, 16, 17, 18, 19, 20, 21, 2...  \n",
       "3268756  [10, 11, 12, 14, 15, 16, 17, 18, 19, 20, 21, 2...  \n",
       "3268757  [10, 11, 13, 14, 15, 16, 17, 18, 19, 20, 21, 2...  \n",
       "3268758  [10, 12, 13, 14, 15, 16, 17, 18, 19, 20, 21, 2...  \n",
       "3268759  [11, 12, 13, 14, 15, 16, 17, 18, 19, 20, 21, 2...  \n",
       "\n",
       "[3268760 rows x 2 columns]"
      ]
     },
     "execution_count": 121,
     "metadata": {},
     "output_type": "execute_result"
    }
   ],
   "source": [
    "data_jogos[['sorteio_sem_sair_resultados', 'jogos_ordenados']]"
   ]
  },
  {
   "cell_type": "code",
   "execution_count": 122,
   "metadata": {},
   "outputs": [
    {
     "name": "stdout",
     "output_type": "stream",
     "text": [
      "CPU times: user 4min 39s, sys: 12 s, total: 4min 51s\n",
      "Wall time: 4min 36s\n"
     ]
    }
   ],
   "source": [
    "%%time\n",
    "data_jogos['sorteio_sem_sair_resultados_sum'] = list(map(soma_jogos_sem_sair, \n",
    "                                                        data_jogos['sorteio_sem_sair_resultados']))\n",
    "data_jogos['sorteio_sem_sair_resultados_mean'] = list(map(media_jogos_sem_sair, \n",
    "                                                        data_jogos['sorteio_sem_sair_resultados']))\n",
    "data_jogos['sorteio_sem_sair_resultados_std'] = list(map(desvio_padrao_jogos_sem_sair, \n",
    "                                                        data_jogos['sorteio_sem_sair_resultados']))"
   ]
  },
  {
   "cell_type": "code",
   "execution_count": 123,
   "metadata": {},
   "outputs": [
    {
     "data": {
      "text/plain": [
       "10    527605\n",
       "9     518310\n",
       "11    475618\n",
       "8     426010\n",
       "12    351780\n",
       "7     295750\n",
       "13    215930\n",
       "6     181195\n",
       "14    106535\n",
       "5      89418\n",
       "4      35490\n",
       "15     30030\n",
       "3      10390\n",
       "16      3003\n",
       "2       1605\n",
       "1         90\n",
       "0          1\n",
       "Name: sorteio_sem_sair_resultados_sum, dtype: int64"
      ]
     },
     "execution_count": 123,
     "metadata": {},
     "output_type": "execute_result"
    }
   ],
   "source": [
    "data_jogos['sorteio_sem_sair_resultados_sum'].value_counts()"
   ]
  },
  {
   "cell_type": "code",
   "execution_count": 46,
   "metadata": {},
   "outputs": [
    {
     "name": "stdout",
     "output_type": "stream",
     "text": [
      "CPU times: user 15 µs, sys: 0 ns, total: 15 µs\n",
      "Wall time: 20 µs\n"
     ]
    }
   ],
   "source": [
    "%%time\n",
    "# Criar todos os jogos possiveis\n",
    "numeros_possiveis = []\n",
    "for i in range (1,7):\n",
    "    numeros_possiveis.append(i)\n",
    "\n",
    "import itertools\n",
    "jogos_possiveis = list(itertools.combinations(numeros_possiveis, 5))\n",
    "\n",
    "jogos_possiveis = [list(i) for i in jogos_possiveis]\n",
    "\n",
    "#data_jogos_parts = dask.delayed(pd.DataFrame)()\n",
    "#data_jogos = dd.from_delayed(data_jogos_parts)\n",
    "#data_jogos = data_jogos.compute()\n",
    "#data_jogos['jogos_ordenados'] = jogos_possiveis"
   ]
  },
  {
   "cell_type": "code",
   "execution_count": 47,
   "metadata": {},
   "outputs": [
    {
     "data": {
      "text/plain": [
       "[[1, 2, 3, 4, 5],\n",
       " [1, 2, 3, 4, 6],\n",
       " [1, 2, 3, 5, 6],\n",
       " [1, 2, 4, 5, 6],\n",
       " [1, 3, 4, 5, 6],\n",
       " [2, 3, 4, 5, 6]]"
      ]
     },
     "execution_count": 47,
     "metadata": {},
     "output_type": "execute_result"
    }
   ],
   "source": [
    "jogos_possiveis"
   ]
  },
  {
   "cell_type": "code",
   "execution_count": 100,
   "metadata": {},
   "outputs": [
    {
     "data": {
      "text/plain": [
       "[]"
      ]
     },
     "execution_count": 100,
     "metadata": {},
     "output_type": "execute_result"
    }
   ],
   "source": []
  },
  {
   "cell_type": "code",
   "execution_count": null,
   "metadata": {},
   "outputs": [],
   "source": []
  }
 ],
 "metadata": {
  "kernelspec": {
   "display_name": "Python 3",
   "language": "python",
   "name": "python3"
  },
  "language_info": {
   "codemirror_mode": {
    "name": "ipython",
    "version": 3
   },
   "file_extension": ".py",
   "mimetype": "text/x-python",
   "name": "python",
   "nbconvert_exporter": "python",
   "pygments_lexer": "ipython3",
   "version": "3.6.9"
  }
 },
 "nbformat": 4,
 "nbformat_minor": 2
}
